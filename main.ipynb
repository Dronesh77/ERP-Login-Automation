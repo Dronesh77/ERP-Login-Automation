{
 "cells": [
  {
   "cell_type": "code",
   "execution_count": 44,
   "metadata": {},
   "outputs": [],
   "source": [
    "from selenium import webdriver\n",
    "from selenium.webdriver.common.keys import Keys\n",
    "from selenium.webdriver.common.by import By\n",
    "from selenium.webdriver.support.select import Select\n",
    "from time import sleep\n",
    "from selenium.webdriver.support.ui import WebDriverWait\n",
    "from selenium.webdriver.support import expected_conditions as EC"
   ]
  },
  {
   "cell_type": "code",
   "execution_count": 45,
   "metadata": {},
   "outputs": [],
   "source": [
    "driver = webdriver.Chrome()"
   ]
  },
  {
   "cell_type": "code",
   "execution_count": 46,
   "metadata": {},
   "outputs": [],
   "source": [
    "url = \"https://erp.iitkgp.ac.in/SSOAdministration/login.htm?sessionToken=1DC99A171DB3E4F750F11B66AAAED7F9.worker3&requestedUrl=https://erp.iitkgp.ac.in/IIT_ERP3/\"\n",
    "driver.get(url)"
   ]
  },
  {
   "cell_type": "code",
   "execution_count": 47,
   "metadata": {},
   "outputs": [],
   "source": [
    "# Find the username input element by its ID\n",
    "user_id = driver.find_element(By.ID, 'user_id')\n",
    "user_id.send_keys('21IM30013')\n",
    "\n",
    "# Find the password input element by its ID\n",
    "user_password = driver.find_element(By.ID, 'password')\n",
    "user_password.send_keys('Mark77@erp')"
   ]
  },
  {
   "cell_type": "code",
   "execution_count": 48,
   "metadata": {},
   "outputs": [],
   "source": [
    "user_question = driver.find_element(By.ID, 'question')\n",
    "user_answer = driver.find_element(By.ID, 'answer')\n",
    "# Check the question text and send the appropriate answer\n",
    "if user_question.text == \"What is your plot no.\":\n",
    "    user_answer.send_keys('23')\n",
    "elif user_question.text == \"Your cycle color\":\n",
    "    user_answer.send_keys('black')\n",
    "else:\n",
    "    user_answer.send_keys('blue')"
   ]
  },
  {
   "cell_type": "code",
   "execution_count": 49,
   "metadata": {},
   "outputs": [],
   "source": [
    "# Find the element by its ID\n",
    "element_to_click = driver.find_element(By.ID, 'getotp')\n",
    "# Click the element\n",
    "element_to_click.click()\n",
    "\n",
    "wait = WebDriverWait(driver, 3)\n",
    "alert = wait.until(EC.alert_is_present())\n",
    "\n",
    "# Switch to the alert and accept it (click OK)\n",
    "alert.accept()"
   ]
  },
  {
   "cell_type": "code",
   "execution_count": 50,
   "metadata": {},
   "outputs": [],
   "source": [
    "import imaplib\n",
    "import email\n",
    "from email.header import decode_header\n",
    "import re\n",
    "\n",
    "# Email account credentials\n",
    "username = \"dmm12042002@gmail.com\"\n",
    "password = \"xekw dnxc fmgv yzoj \""
   ]
  },
  {
   "cell_type": "code",
   "execution_count": 51,
   "metadata": {},
   "outputs": [],
   "source": [
    "# Function to fetch OTP from email\n",
    "def fetch_otp():\n",
    "    # Connect to the server and go to its inbox\n",
    "    mail = imaplib.IMAP4_SSL(\"imap.gmail.com\")\n",
    "    mail.login(username, password)\n",
    "    mail.select(\"inbox\")\n",
    "\n",
    "    # Search for all emails in the inbox\n",
    "    status, messages = mail.search(None, \"ALL\")\n",
    "\n",
    "    # Get the list of email IDs\n",
    "    email_ids = messages[0].split()\n",
    "\n",
    "    # Iterate through the latest emails\n",
    "    for email_id in reversed(email_ids):\n",
    "        # Fetch the email by ID\n",
    "        status, msg_data = mail.fetch(email_id, \"(RFC822)\")\n",
    "        \n",
    "        for response_part in msg_data:\n",
    "            if isinstance(response_part, tuple):\n",
    "                # Parse the email content\n",
    "                msg = email.message_from_bytes(response_part[1])\n",
    "                \n",
    "                # Decode the email subject\n",
    "                subject, encoding = decode_header(msg[\"Subject\"])[0]\n",
    "                if isinstance(subject, bytes):\n",
    "                    subject = subject.decode(encoding if encoding else \"utf-8\")\n",
    "                \n",
    "                # Check if the email subject contains \"OTP\"\n",
    "                if \"OTP\" in subject:\n",
    "                    # If the email message is multipart\n",
    "                    if msg.is_multipart():\n",
    "                        for part in msg.walk():\n",
    "                            # Extract the email body\n",
    "                            if part.get_content_type() == \"text/plain\":\n",
    "                                body = part.get_payload(decode=True).decode()\n",
    "                                # Search for the OTP using regex\n",
    "                                otp = re.search(r\"\\d{6}\", body)\n",
    "                                if otp:\n",
    "                                    return otp.group(0)\n",
    "                    else:\n",
    "                        # Extract the email body if it's not multipart\n",
    "                        body = msg.get_payload(decode=True).decode()\n",
    "                        # Search for the OTP using regex\n",
    "                        otp = re.search(r\"\\d{6}\", body)\n",
    "                        if otp:\n",
    "                            return otp.group(0)\n",
    "    return None\n"
   ]
  },
  {
   "cell_type": "code",
   "execution_count": 52,
   "metadata": {},
   "outputs": [
    {
     "name": "stdout",
     "output_type": "stream",
     "text": [
      "Your OTP is: 399249\n"
     ]
    }
   ],
   "source": [
    "# Fetch the OTP\n",
    "otp = fetch_otp()\n",
    "if otp:\n",
    "    print(f\"Your OTP is: {otp}\")\n",
    "else:\n",
    "    print(\"No OTP found.\")"
   ]
  },
  {
   "cell_type": "code",
   "execution_count": 53,
   "metadata": {},
   "outputs": [],
   "source": [
    "# Enter otp \n",
    "user_otp = driver.find_element(By.ID, 'email_otp1')\n",
    "user_otp.send_keys(otp)"
   ]
  },
  {
   "cell_type": "code",
   "execution_count": 54,
   "metadata": {},
   "outputs": [],
   "source": [
    "# Sign In\n",
    "user_sign = driver.find_element(By.ID, 'loginFormSubmitButton')\n",
    "user_sign.click()"
   ]
  },
  {
   "cell_type": "code",
   "execution_count": 56,
   "metadata": {},
   "outputs": [],
   "source": [
    "# # Click on CDC\n",
    "# cdc_page = driver.find_element(By.XPATH, \"//strong[text()='cdc']\")\n",
    "# cdc_page.click()"
   ]
  },
  {
   "cell_type": "code",
   "execution_count": 57,
   "metadata": {},
   "outputs": [],
   "source": [
    "# # CDC page\n",
    "# wait = WebDriverWait(driver, 3)\n",
    "# student = wait.until(EC.element_to_be_clickable((By.XPATH, \"//a[@class='text-primary' and text()='Student']\")))\n",
    "\n",
    "# # Click the element\n",
    "# student.click()\n",
    "\n",
    "# # Dropdown click on Application of Placement/Internship\n",
    "# intern_but = wait.until(EC.element_to_be_clickable((By.XPATH, \"//a[@class='text-default' and contains(text(),'Application of Placement/Internship')]\")))\n",
    "# intern_but.click()"
   ]
  },
  {
   "cell_type": "code",
   "execution_count": null,
   "metadata": {},
   "outputs": [],
   "source": []
  }
 ],
 "metadata": {
  "kernelspec": {
   "display_name": "Python 3",
   "language": "python",
   "name": "python3"
  },
  "language_info": {
   "codemirror_mode": {
    "name": "ipython",
    "version": 3
   },
   "file_extension": ".py",
   "mimetype": "text/x-python",
   "name": "python",
   "nbconvert_exporter": "python",
   "pygments_lexer": "ipython3",
   "version": "3.10.5"
  }
 },
 "nbformat": 4,
 "nbformat_minor": 2
}
